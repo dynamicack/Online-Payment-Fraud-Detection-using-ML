{
 "cells": [
  {
   "cell_type": "code",
   "execution_count": 1,
   "metadata": {},
   "outputs": [
    {
     "name": "stderr",
     "output_type": "stream",
     "text": [
      "<>:8: SyntaxWarning: invalid escape sequence '\\p'\n",
      "<>:8: SyntaxWarning: invalid escape sequence '\\p'\n",
      "C:\\Users\\saiprudhvi\\AppData\\Local\\Temp\\ipykernel_4068\\3632319020.py:8: SyntaxWarning: invalid escape sequence '\\p'\n",
      "  df = pd.read_csv('E:\\prudhvi\\Online fraud detection\\data\\PS_20174392719_1491204439457_log[1].csv')\n",
      "C:\\Users\\saiprudhvi\\AppData\\Local\\Temp\\ipykernel_4068\\3632319020.py:1: DeprecationWarning: \n",
      "Pyarrow will become a required dependency of pandas in the next major release of pandas (pandas 3.0),\n",
      "(to allow more performant data types, such as the Arrow string type, and better interoperability with other libraries)\n",
      "but was not found to be installed on your system.\n",
      "If this would cause problems for you,\n",
      "please provide us feedback at https://github.com/pandas-dev/pandas/issues/54466\n",
      "        \n",
      "  import pandas as pd\n"
     ]
    },
    {
     "data": {
      "text/plain": [
       "['model.pkl']"
      ]
     },
     "execution_count": 1,
     "metadata": {},
     "output_type": "execute_result"
    }
   ],
   "source": [
    "import pandas as pd\n",
    "import numpy as np\n",
    "import requests\n",
    "import joblib\n",
    "\n",
    "\n",
    "# Load the dataset\n",
    "df = pd.read_csv('E:\\prudhvi\\Online fraud detection\\data\\PS_20174392719_1491204439457_log[1].csv')\n",
    "# Set pandas options to display float format for descriptive statistics\n",
    "pd.set_option('display.float_format', lambda x: '%.2f' % x)\n",
    "\n",
    "# Drop null values\n",
    "df.dropna(inplace=True)\n",
    "\n",
    "from sklearn.preprocessing import LabelEncoder\n",
    "label_encoder = LabelEncoder()\n",
    "\n",
    "# Iterate over object-type columns and perform label encoding\n",
    "for column in df.select_dtypes(include=['object']).columns:\n",
    "    df[column] = label_encoder.fit_transform(df[column])\n",
    "\n",
    "import pandas as pd\n",
    "from sklearn.model_selection import train_test_split\n",
    "from sklearn.metrics import accuracy_score, classification_report\n",
    "\n",
    "\n",
    "# Separate features (X) and target variable (y)\n",
    "X = df.drop(columns=['isFraud'])  # Features\n",
    "y = df['isFraud']  # Target variable\n",
    "\n",
    "# Split the data into training and testing sets\n",
    "X_train, X_test, y_train, y_test = train_test_split(X, y, test_size=0.4, random_state=42)\n",
    "\n",
    "\n",
    "from sklearn.tree import DecisionTreeClassifier\n",
    "\n",
    "# Initialize the Decision Tree classifier\n",
    "dt_classifier = DecisionTreeClassifier(random_state=42)\n",
    "\n",
    "# Fit the classifier to the training data\n",
    "dt_classifier.fit(X_train, y_train)\n",
    "\n",
    "# Function to test the model with manual input\n",
    "def test_model(dt_model, input_values):\n",
    "    prediction = dt_model.predict([input_values])\n",
    "    if prediction[0] == 1:\n",
    "        print(\"Prediction: Fraudulent Transaction\")\n",
    "    else:\n",
    "        print(\"Prediction: Non-Fraudulent Transaction\")\n",
    "\n",
    "# Save the trained model to a file\n",
    "joblib.dump(dt_classifier, 'model.pkl')\n",
    "\n",
    "\n"
   ]
  }
 ],
 "metadata": {
  "kernelspec": {
   "display_name": "Python 3",
   "language": "python",
   "name": "python3"
  },
  "language_info": {
   "codemirror_mode": {
    "name": "ipython",
    "version": 3
   },
   "file_extension": ".py",
   "mimetype": "text/x-python",
   "name": "python",
   "nbconvert_exporter": "python",
   "pygments_lexer": "ipython3",
   "version": "3.12.0"
  }
 },
 "nbformat": 4,
 "nbformat_minor": 2
}
